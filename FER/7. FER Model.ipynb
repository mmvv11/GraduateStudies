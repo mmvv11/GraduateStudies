{
 "cells": [
  {
   "cell_type": "code",
   "execution_count": 4,
   "id": "a76d8aed",
   "metadata": {},
   "outputs": [
    {
     "name": "stdout",
     "output_type": "stream",
     "text": [
      "Collecting opencv-python\n",
      "  Downloading opencv_python-4.8.0.74-cp37-abi3-win_amd64.whl (38.1 MB)\n",
      "     ---------------------------------------- 38.1/38.1 MB 9.6 MB/s eta 0:00:00\n",
      "Requirement already satisfied: numpy>=1.17.0 in c:\\anaconda3\\lib\\site-packages (from opencv-python) (1.21.5)\n",
      "Installing collected packages: opencv-python\n",
      "Successfully installed opencv-python-4.8.0.74\n"
     ]
    }
   ],
   "source": [
    "!pip install opencv-python"
   ]
  },
  {
   "cell_type": "code",
   "execution_count": 1,
   "id": "47d08196",
   "metadata": {},
   "outputs": [],
   "source": [
    "import cv2\n",
    "from tensorflow import keras\n",
    "from tensorflow.keras.models import Sequential\n",
    "from tensorflow.keras.layers import Conv2D, MaxPooling2D, Dense, Dropout, Flatten\n",
    "from tensorflow.keras.optimizers import Adam\n",
    "from tensorflow.keras.preprocessing.image import ImageDataGenerator"
   ]
  },
  {
   "cell_type": "markdown",
   "id": "5f36d11e",
   "metadata": {},
   "source": [
    "## FER 데이터셋 다운로드\n",
    "\n",
    "https://www.kaggle.com/datasets/msambare/fer2013\n",
    "\n",
    "다운로드 받은 데이터셋을 주피터노트북과 같은 디렉토리 내, `dataset`이라는 폴더를 만들어 저장"
   ]
  },
  {
   "cell_type": "markdown",
   "id": "730da4b1",
   "metadata": {},
   "source": [
    "  "
   ]
  },
  {
   "cell_type": "markdown",
   "id": "d9b9b5f8",
   "metadata": {},
   "source": [
    "  "
   ]
  },
  {
   "cell_type": "markdown",
   "id": "6f27b94d",
   "metadata": {},
   "source": [
    "## dataset 준비"
   ]
  },
  {
   "cell_type": "code",
   "execution_count": 2,
   "id": "2acfd554",
   "metadata": {},
   "outputs": [],
   "source": [
    "train_generator = ImageDataGenerator(rescale=1./255)\n",
    "val_generator = ImageDataGenerator(rescale=1./255)"
   ]
  },
  {
   "cell_type": "code",
   "execution_count": 3,
   "id": "3d84c564",
   "metadata": {
    "scrolled": true
   },
   "outputs": [
    {
     "name": "stdout",
     "output_type": "stream",
     "text": [
      "Found 28709 images belonging to 7 classes.\n",
      "Found 7178 images belonging to 7 classes.\n"
     ]
    }
   ],
   "source": [
    "train_generator = train_generator.flow_from_directory(\n",
    "    directory=\"dataset/train\",\n",
    "    target_size=(48,48),\n",
    "    batch_size=64,\n",
    "    color_mode=\"grayscale\",\n",
    "    class_mode=\"categorical\"\n",
    "    \n",
    ")\n",
    "\n",
    "val_generator = val_generator.flow_from_directory(\n",
    "    directory=\"dataset/test\",\n",
    "    target_size=(48,48),\n",
    "    batch_size=64,\n",
    "    color_mode=\"grayscale\",\n",
    "    class_mode=\"categorical\"\n",
    "    \n",
    ")"
   ]
  },
  {
   "cell_type": "markdown",
   "id": "b3b30de2",
   "metadata": {},
   "source": [
    "  "
   ]
  },
  {
   "cell_type": "markdown",
   "id": "eabd24f4",
   "metadata": {},
   "source": [
    "  "
   ]
  },
  {
   "cell_type": "markdown",
   "id": "7ea87b4a",
   "metadata": {},
   "source": [
    "## Model 생성"
   ]
  },
  {
   "cell_type": "code",
   "execution_count": 4,
   "id": "f7b4b79d",
   "metadata": {},
   "outputs": [],
   "source": [
    "model = Sequential()\n",
    "\n",
    "model.add(Conv2D(32, kernel_size=(3, 3), activation='relu', input_shape=(48, 48, 1)))\n",
    "model.add(Conv2D(64, kernel_size=(3, 3), activation='relu'))\n",
    "model.add(MaxPooling2D(pool_size=(2, 2)))\n",
    "model.add(Dropout(0.25))\n",
    "\n",
    "model.add(Conv2D(128, kernel_size=(3, 3), activation='relu'))\n",
    "model.add(MaxPooling2D(pool_size=(2, 2)))\n",
    "model.add(Conv2D(128, kernel_size=(3, 3), activation='relu'))\n",
    "model.add(MaxPooling2D(pool_size=(2, 2)))\n",
    "model.add(Dropout(0.25))\n",
    "\n",
    "model.add(Flatten())\n",
    "model.add(Dense(1024, activation='relu'))\n",
    "model.add(Dropout(0.5))\n",
    "model.add(Dense(7, activation='softmax'))"
   ]
  },
  {
   "cell_type": "code",
   "execution_count": 5,
   "id": "c0b48ded",
   "metadata": {},
   "outputs": [],
   "source": [
    "model.compile(\n",
    "    optimizer = Adam(learning_rate=0.0001), \n",
    "    loss='categorical_crossentropy', \n",
    "    metrics=['accuracy']\n",
    "  )"
   ]
  },
  {
   "cell_type": "markdown",
   "id": "599b82ec",
   "metadata": {},
   "source": [
    "  "
   ]
  },
  {
   "cell_type": "markdown",
   "id": "5889017b",
   "metadata": {},
   "source": [
    "  "
   ]
  },
  {
   "cell_type": "markdown",
   "id": "2ca5c9b2",
   "metadata": {},
   "source": [
    "## Model 학습"
   ]
  },
  {
   "cell_type": "code",
   "execution_count": 6,
   "id": "1d1ba08d",
   "metadata": {
    "scrolled": true
   },
   "outputs": [
    {
     "name": "stdout",
     "output_type": "stream",
     "text": [
      "Epoch 1/50\n",
      "449/449 [==============================] - 179s 397ms/step - loss: 1.8048 - accuracy: 0.2567 - val_loss: 1.7310 - val_accuracy: 0.3429\n",
      "Epoch 2/50\n",
      "449/449 [==============================] - 178s 397ms/step - loss: 1.6342 - accuracy: 0.3634 - val_loss: 1.5441 - val_accuracy: 0.4179\n",
      "Epoch 3/50\n",
      "449/449 [==============================] - 178s 396ms/step - loss: 1.5286 - accuracy: 0.4105 - val_loss: 1.4531 - val_accuracy: 0.4485\n",
      "Epoch 4/50\n",
      "449/449 [==============================] - 177s 395ms/step - loss: 1.4580 - accuracy: 0.4429 - val_loss: 1.4028 - val_accuracy: 0.4684\n",
      "Epoch 5/50\n",
      "449/449 [==============================] - 178s 396ms/step - loss: 1.3964 - accuracy: 0.4662 - val_loss: 1.3425 - val_accuracy: 0.4911\n",
      "Epoch 6/50\n",
      "449/449 [==============================] - 177s 395ms/step - loss: 1.3457 - accuracy: 0.4893 - val_loss: 1.3055 - val_accuracy: 0.5036\n",
      "Epoch 7/50\n",
      "449/449 [==============================] - 178s 396ms/step - loss: 1.2980 - accuracy: 0.5057 - val_loss: 1.2797 - val_accuracy: 0.5124\n",
      "Epoch 8/50\n",
      "449/449 [==============================] - 178s 395ms/step - loss: 1.2615 - accuracy: 0.5236 - val_loss: 1.2394 - val_accuracy: 0.5273\n",
      "Epoch 9/50\n",
      "449/449 [==============================] - 178s 396ms/step - loss: 1.2263 - accuracy: 0.5371 - val_loss: 1.2219 - val_accuracy: 0.5311\n",
      "Epoch 10/50\n",
      "449/449 [==============================] - 177s 395ms/step - loss: 1.1922 - accuracy: 0.5497 - val_loss: 1.1939 - val_accuracy: 0.5443\n",
      "Epoch 11/50\n",
      "449/449 [==============================] - 177s 395ms/step - loss: 1.1675 - accuracy: 0.5611 - val_loss: 1.1718 - val_accuracy: 0.5532\n",
      "Epoch 12/50\n",
      "449/449 [==============================] - 177s 394ms/step - loss: 1.1385 - accuracy: 0.5729 - val_loss: 1.1530 - val_accuracy: 0.5617\n",
      "Epoch 13/50\n",
      "449/449 [==============================] - 180s 401ms/step - loss: 1.1174 - accuracy: 0.5824 - val_loss: 1.1390 - val_accuracy: 0.5723\n",
      "Epoch 14/50\n",
      "449/449 [==============================] - 180s 401ms/step - loss: 1.0878 - accuracy: 0.5942 - val_loss: 1.1394 - val_accuracy: 0.5652\n",
      "Epoch 15/50\n",
      "449/449 [==============================] - 179s 398ms/step - loss: 1.0691 - accuracy: 0.5995 - val_loss: 1.1196 - val_accuracy: 0.5821\n",
      "Epoch 16/50\n",
      "449/449 [==============================] - 177s 395ms/step - loss: 1.0412 - accuracy: 0.6121 - val_loss: 1.1125 - val_accuracy: 0.5808\n",
      "Epoch 17/50\n",
      "449/449 [==============================] - 178s 397ms/step - loss: 1.0204 - accuracy: 0.6218 - val_loss: 1.1004 - val_accuracy: 0.5906\n",
      "Epoch 18/50\n",
      "449/449 [==============================] - 178s 396ms/step - loss: 0.9944 - accuracy: 0.6310 - val_loss: 1.0939 - val_accuracy: 0.5901\n",
      "Epoch 19/50\n",
      "449/449 [==============================] - 178s 396ms/step - loss: 0.9747 - accuracy: 0.6347 - val_loss: 1.0874 - val_accuracy: 0.5926\n",
      "Epoch 20/50\n",
      "449/449 [==============================] - 177s 395ms/step - loss: 0.9543 - accuracy: 0.6460 - val_loss: 1.0811 - val_accuracy: 0.5975\n",
      "Epoch 21/50\n",
      "449/449 [==============================] - 178s 396ms/step - loss: 0.9268 - accuracy: 0.6569 - val_loss: 1.0788 - val_accuracy: 0.5958\n",
      "Epoch 22/50\n",
      "449/449 [==============================] - 181s 403ms/step - loss: 0.9080 - accuracy: 0.6621 - val_loss: 1.0664 - val_accuracy: 0.6064\n",
      "Epoch 23/50\n",
      "449/449 [==============================] - 177s 394ms/step - loss: 0.8893 - accuracy: 0.6687 - val_loss: 1.0648 - val_accuracy: 0.6082\n",
      "Epoch 24/50\n",
      "449/449 [==============================] - 177s 393ms/step - loss: 0.8642 - accuracy: 0.6796 - val_loss: 1.0639 - val_accuracy: 0.6069\n",
      "Epoch 25/50\n",
      "449/449 [==============================] - 179s 399ms/step - loss: 0.8447 - accuracy: 0.6883 - val_loss: 1.0593 - val_accuracy: 0.6092\n",
      "Epoch 26/50\n",
      "449/449 [==============================] - 177s 394ms/step - loss: 0.8228 - accuracy: 0.6964 - val_loss: 1.0521 - val_accuracy: 0.6162\n",
      "Epoch 27/50\n",
      "449/449 [==============================] - 177s 394ms/step - loss: 0.7965 - accuracy: 0.7093 - val_loss: 1.0622 - val_accuracy: 0.6147\n",
      "Epoch 28/50\n",
      "449/449 [==============================] - 177s 394ms/step - loss: 0.7727 - accuracy: 0.7186 - val_loss: 1.0709 - val_accuracy: 0.6148\n",
      "Epoch 29/50\n",
      "449/449 [==============================] - 177s 395ms/step - loss: 0.7557 - accuracy: 0.7234 - val_loss: 1.0767 - val_accuracy: 0.6109\n",
      "Epoch 30/50\n",
      "449/449 [==============================] - 179s 398ms/step - loss: 0.7325 - accuracy: 0.7319 - val_loss: 1.0636 - val_accuracy: 0.6158\n",
      "Epoch 31/50\n",
      "449/449 [==============================] - 177s 394ms/step - loss: 0.7066 - accuracy: 0.7420 - val_loss: 1.0639 - val_accuracy: 0.6204\n",
      "Epoch 32/50\n",
      "449/449 [==============================] - 178s 396ms/step - loss: 0.6897 - accuracy: 0.7476 - val_loss: 1.0696 - val_accuracy: 0.6181\n",
      "Epoch 33/50\n",
      "449/449 [==============================] - 178s 396ms/step - loss: 0.6660 - accuracy: 0.7566 - val_loss: 1.0606 - val_accuracy: 0.6244\n",
      "Epoch 34/50\n",
      "449/449 [==============================] - 177s 395ms/step - loss: 0.6487 - accuracy: 0.7659 - val_loss: 1.0686 - val_accuracy: 0.6199\n",
      "Epoch 35/50\n",
      "449/449 [==============================] - 177s 394ms/step - loss: 0.6364 - accuracy: 0.7678 - val_loss: 1.0758 - val_accuracy: 0.6258\n",
      "Epoch 36/50\n",
      "449/449 [==============================] - 177s 394ms/step - loss: 0.6064 - accuracy: 0.7817 - val_loss: 1.0982 - val_accuracy: 0.6209\n",
      "Epoch 37/50\n",
      "449/449 [==============================] - 187s 417ms/step - loss: 0.5899 - accuracy: 0.7868 - val_loss: 1.0807 - val_accuracy: 0.6205\n",
      "Epoch 38/50\n",
      "449/449 [==============================] - 182s 405ms/step - loss: 0.5751 - accuracy: 0.7913 - val_loss: 1.0738 - val_accuracy: 0.6225\n",
      "Epoch 39/50\n",
      "449/449 [==============================] - 179s 400ms/step - loss: 0.5578 - accuracy: 0.7965 - val_loss: 1.0949 - val_accuracy: 0.6233\n",
      "Epoch 40/50\n",
      "449/449 [==============================] - 178s 397ms/step - loss: 0.5316 - accuracy: 0.8077 - val_loss: 1.0939 - val_accuracy: 0.6265\n",
      "Epoch 41/50\n",
      "449/449 [==============================] - 178s 397ms/step - loss: 0.5167 - accuracy: 0.8128 - val_loss: 1.1216 - val_accuracy: 0.6204\n",
      "Epoch 42/50\n",
      "449/449 [==============================] - 177s 395ms/step - loss: 0.5067 - accuracy: 0.8170 - val_loss: 1.1143 - val_accuracy: 0.6213\n",
      "Epoch 43/50\n",
      "449/449 [==============================] - 177s 394ms/step - loss: 0.4878 - accuracy: 0.8258 - val_loss: 1.1380 - val_accuracy: 0.6223\n",
      "Epoch 44/50\n",
      "449/449 [==============================] - 177s 394ms/step - loss: 0.4695 - accuracy: 0.8292 - val_loss: 1.1283 - val_accuracy: 0.6225\n",
      "Epoch 45/50\n",
      "449/449 [==============================] - 177s 394ms/step - loss: 0.4561 - accuracy: 0.8348 - val_loss: 1.1586 - val_accuracy: 0.6206\n",
      "Epoch 46/50\n",
      "449/449 [==============================] - 177s 395ms/step - loss: 0.4412 - accuracy: 0.8411 - val_loss: 1.1616 - val_accuracy: 0.6226\n",
      "Epoch 47/50\n",
      "449/449 [==============================] - 178s 398ms/step - loss: 0.4235 - accuracy: 0.8485 - val_loss: 1.1673 - val_accuracy: 0.6252\n",
      "Epoch 48/50\n",
      "449/449 [==============================] - 177s 394ms/step - loss: 0.4196 - accuracy: 0.8490 - val_loss: 1.1648 - val_accuracy: 0.6265\n",
      "Epoch 49/50\n",
      "449/449 [==============================] - 178s 396ms/step - loss: 0.4003 - accuracy: 0.8566 - val_loss: 1.1747 - val_accuracy: 0.6236\n",
      "Epoch 50/50\n",
      "449/449 [==============================] - 178s 395ms/step - loss: 0.3943 - accuracy: 0.8571 - val_loss: 1.1794 - val_accuracy: 0.6251\n"
     ]
    }
   ],
   "source": [
    "history = model.fit(x = train_generator,epochs = 50,validation_data = val_generator)"
   ]
  },
  {
   "cell_type": "markdown",
   "id": "d267abed",
   "metadata": {},
   "source": [
    "  "
   ]
  },
  {
   "cell_type": "markdown",
   "id": "acb624d1",
   "metadata": {},
   "source": [
    "  "
   ]
  },
  {
   "cell_type": "markdown",
   "id": "7bb34738",
   "metadata": {},
   "source": [
    "## Model 저장"
   ]
  },
  {
   "cell_type": "code",
   "execution_count": 7,
   "id": "52ba64f8",
   "metadata": {},
   "outputs": [],
   "source": [
    "# 모델 전체 저장\n",
    "model.save('my_model.h5')"
   ]
  },
  {
   "cell_type": "code",
   "execution_count": 8,
   "id": "a61c8ae3",
   "metadata": {},
   "outputs": [],
   "source": [
    "# 모델 로드\n",
    "loaded_model = keras.models.load_model('my_model.h5')"
   ]
  },
  {
   "cell_type": "code",
   "execution_count": 9,
   "id": "9f53860c",
   "metadata": {},
   "outputs": [
    {
     "name": "stderr",
     "output_type": "stream",
     "text": [
      "C:\\Users\\PC\\AppData\\Local\\Temp\\ipykernel_15280\\1514340696.py:2: UserWarning: `Model.evaluate_generator` is deprecated and will be removed in a future version. Please use `Model.evaluate`, which supports generators.\n",
      "  loaded_model.evaluate_generator(val_generator)\n"
     ]
    },
    {
     "data": {
      "text/plain": [
       "[1.1794465780258179, 0.6251044869422913]"
      ]
     },
     "execution_count": 9,
     "metadata": {},
     "output_type": "execute_result"
    }
   ],
   "source": [
    "# 로드한 모델 평가.\n",
    "loaded_model.evaluate_generator(val_generator)"
   ]
  },
  {
   "cell_type": "code",
   "execution_count": null,
   "id": "643e36c0",
   "metadata": {},
   "outputs": [],
   "source": []
  }
 ],
 "metadata": {
  "kernelspec": {
   "display_name": "Python 3 (ipykernel)",
   "language": "python",
   "name": "python3"
  },
  "language_info": {
   "codemirror_mode": {
    "name": "ipython",
    "version": 3
   },
   "file_extension": ".py",
   "mimetype": "text/x-python",
   "name": "python",
   "nbconvert_exporter": "python",
   "pygments_lexer": "ipython3",
   "version": "3.11.1"
  }
 },
 "nbformat": 4,
 "nbformat_minor": 5
}
