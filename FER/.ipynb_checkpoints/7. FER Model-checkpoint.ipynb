{
 "cells": [
  {
   "cell_type": "code",
   "execution_count": 4,
   "id": "a76d8aed",
   "metadata": {},
   "outputs": [
    {
     "name": "stdout",
     "output_type": "stream",
     "text": [
      "Collecting opencv-python\n",
      "  Downloading opencv_python-4.8.0.74-cp37-abi3-win_amd64.whl (38.1 MB)\n",
      "     ---------------------------------------- 38.1/38.1 MB 9.6 MB/s eta 0:00:00\n",
      "Requirement already satisfied: numpy>=1.17.0 in c:\\anaconda3\\lib\\site-packages (from opencv-python) (1.21.5)\n",
      "Installing collected packages: opencv-python\n",
      "Successfully installed opencv-python-4.8.0.74\n"
     ]
    }
   ],
   "source": [
    "!pip install opencv-python"
   ]
  },
  {
   "cell_type": "code",
   "execution_count": 5,
   "id": "47d08196",
   "metadata": {},
   "outputs": [],
   "source": [
    "import cv2\n",
    "from tensorflow import keras\n",
    "from tensorflow.keras.models import Sequential\n",
    "from tensorflow.keras.layers import Conv2D, MaxPooling2D, Dense, Dropout, Flatten\n",
    "from tensorflow.keras.optimizers import Adam\n",
    "from tensorflow.keras.preprocessing.image import ImageDataGenerator"
   ]
  },
  {
   "cell_type": "markdown",
   "id": "5f36d11e",
   "metadata": {},
   "source": [
    "## FER 데이터셋 다운로드\n",
    "\n",
    "https://www.kaggle.com/datasets/msambare/fer2013\n",
    "\n",
    "다운로드 받은 데이터셋을 주피터노트북과 같은 디렉토리 내, `dataset`이라는 폴더를 만들어 저장"
   ]
  },
  {
   "cell_type": "markdown",
   "id": "730da4b1",
   "metadata": {},
   "source": [
    "  "
   ]
  },
  {
   "cell_type": "markdown",
   "id": "d9b9b5f8",
   "metadata": {},
   "source": [
    "  "
   ]
  },
  {
   "cell_type": "markdown",
   "id": "6f27b94d",
   "metadata": {},
   "source": [
    "## dataset 준비"
   ]
  },
  {
   "cell_type": "code",
   "execution_count": 6,
   "id": "2acfd554",
   "metadata": {},
   "outputs": [],
   "source": [
    "train_generator = ImageDataGenerator(rescale=1./255)\n",
    "val_generator = ImageDataGenerator(rescale=1./255)"
   ]
  },
  {
   "cell_type": "code",
   "execution_count": 7,
   "id": "3d84c564",
   "metadata": {
    "scrolled": true
   },
   "outputs": [
    {
     "name": "stdout",
     "output_type": "stream",
     "text": [
      "Found 28709 images belonging to 7 classes.\n",
      "Found 7178 images belonging to 7 classes.\n"
     ]
    }
   ],
   "source": [
    "train_generator = train_generator.flow_from_directory(\n",
    "    directory=\"dataset/train\",\n",
    "    target_size=(48,48),\n",
    "    batch_size=64,\n",
    "    color_mode=\"grayscale\",\n",
    "    class_mode=\"categorical\"\n",
    "    \n",
    ")\n",
    "\n",
    "val_generator = val_generator.flow_from_directory(\n",
    "    directory=\"dataset/test\",\n",
    "    target_size=(48,48),\n",
    "    batch_size=64,\n",
    "    color_mode=\"grayscale\",\n",
    "    class_mode=\"categorical\"\n",
    "    \n",
    ")"
   ]
  },
  {
   "cell_type": "markdown",
   "id": "b3b30de2",
   "metadata": {},
   "source": [
    "  "
   ]
  },
  {
   "cell_type": "markdown",
   "id": "eabd24f4",
   "metadata": {},
   "source": [
    "  "
   ]
  },
  {
   "cell_type": "markdown",
   "id": "7ea87b4a",
   "metadata": {},
   "source": [
    "## Model 생성"
   ]
  },
  {
   "cell_type": "code",
   "execution_count": 8,
   "id": "f7b4b79d",
   "metadata": {},
   "outputs": [],
   "source": [
    "model = Sequential()\n",
    "\n",
    "model.add(Conv2D(32, kernel_size=(3, 3), activation='relu', input_shape=(48, 48, 1)))\n",
    "model.add(Conv2D(64, kernel_size=(3, 3), activation='relu'))\n",
    "model.add(MaxPooling2D(pool_size=(2, 2)))\n",
    "model.add(Dropout(0.25))\n",
    "\n",
    "model.add(Conv2D(128, kernel_size=(3, 3), activation='relu'))\n",
    "model.add(MaxPooling2D(pool_size=(2, 2)))\n",
    "model.add(Conv2D(128, kernel_size=(3, 3), activation='relu'))\n",
    "model.add(MaxPooling2D(pool_size=(2, 2)))\n",
    "model.add(Dropout(0.25))\n",
    "\n",
    "model.add(Flatten())\n",
    "model.add(Dense(1024, activation='relu'))\n",
    "model.add(Dropout(0.5))\n",
    "model.add(Dense(7, activation='softmax'))"
   ]
  },
  {
   "cell_type": "code",
   "execution_count": 11,
   "id": "c0b48ded",
   "metadata": {},
   "outputs": [],
   "source": [
    "model.compile(\n",
    "    optimizer = Adam(learning_rate=0.0001), \n",
    "    loss='categorical_crossentropy', \n",
    "    metrics=['accuracy']\n",
    "  )"
   ]
  },
  {
   "cell_type": "markdown",
   "id": "599b82ec",
   "metadata": {},
   "source": [
    "  "
   ]
  },
  {
   "cell_type": "markdown",
   "id": "5889017b",
   "metadata": {},
   "source": [
    "  "
   ]
  },
  {
   "cell_type": "markdown",
   "id": "2ca5c9b2",
   "metadata": {},
   "source": [
    "## Model 학습"
   ]
  },
  {
   "cell_type": "code",
   "execution_count": 13,
   "id": "1d1ba08d",
   "metadata": {
    "scrolled": true
   },
   "outputs": [
    {
     "name": "stdout",
     "output_type": "stream",
     "text": [
      "Epoch 1/10\n",
      "449/449 [==============================] - 81s 181ms/step - loss: 1.1682 - accuracy: 0.5613 - val_loss: 1.1820 - val_accuracy: 0.5472\n",
      "Epoch 2/10\n",
      "449/449 [==============================] - 86s 191ms/step - loss: 1.1437 - accuracy: 0.5717 - val_loss: 1.1675 - val_accuracy: 0.5588\n",
      "Epoch 3/10\n",
      "449/449 [==============================] - 82s 183ms/step - loss: 1.1148 - accuracy: 0.5843 - val_loss: 1.1539 - val_accuracy: 0.5670\n",
      "Epoch 4/10\n",
      "449/449 [==============================] - 85s 189ms/step - loss: 1.0936 - accuracy: 0.5910 - val_loss: 1.1312 - val_accuracy: 0.5715\n",
      "Epoch 5/10\n",
      "449/449 [==============================] - 83s 186ms/step - loss: 1.0688 - accuracy: 0.5998 - val_loss: 1.1183 - val_accuracy: 0.5770\n",
      "Epoch 6/10\n",
      "449/449 [==============================] - 83s 186ms/step - loss: 1.0449 - accuracy: 0.6094 - val_loss: 1.1121 - val_accuracy: 0.5816\n",
      "Epoch 7/10\n",
      "449/449 [==============================] - 82s 182ms/step - loss: 1.0235 - accuracy: 0.6190 - val_loss: 1.0958 - val_accuracy: 0.5874\n",
      "Epoch 8/10\n",
      "449/449 [==============================] - 81s 180ms/step - loss: 0.9936 - accuracy: 0.6347 - val_loss: 1.1086 - val_accuracy: 0.5821\n",
      "Epoch 9/10\n",
      "449/449 [==============================] - 81s 180ms/step - loss: 0.9749 - accuracy: 0.6399 - val_loss: 1.0804 - val_accuracy: 0.5971\n",
      "Epoch 10/10\n",
      "449/449 [==============================] - 81s 181ms/step - loss: 0.9543 - accuracy: 0.6470 - val_loss: 1.0795 - val_accuracy: 0.5942\n"
     ]
    }
   ],
   "source": [
    "history = model.fit(x = train_generator,epochs = 10,validation_data = val_generator)"
   ]
  },
  {
   "cell_type": "markdown",
   "id": "d267abed",
   "metadata": {},
   "source": [
    "  "
   ]
  },
  {
   "cell_type": "markdown",
   "id": "acb624d1",
   "metadata": {},
   "source": [
    "  "
   ]
  },
  {
   "cell_type": "markdown",
   "id": "7bb34738",
   "metadata": {},
   "source": [
    "## Model 저장"
   ]
  },
  {
   "cell_type": "code",
   "execution_count": 14,
   "id": "52ba64f8",
   "metadata": {},
   "outputs": [],
   "source": [
    "# 모델 전체 저장\n",
    "model.save('my_model.h5')"
   ]
  },
  {
   "cell_type": "code",
   "execution_count": 15,
   "id": "a61c8ae3",
   "metadata": {},
   "outputs": [],
   "source": [
    "# 모델 로드\n",
    "loaded_model = keras.models.load_model('my_model.h5')"
   ]
  },
  {
   "cell_type": "code",
   "execution_count": 17,
   "id": "9f53860c",
   "metadata": {},
   "outputs": [
    {
     "name": "stderr",
     "output_type": "stream",
     "text": [
      "C:\\Users\\정지운\\AppData\\Local\\Temp\\ipykernel_26380\\2151941985.py:1: UserWarning: `Model.evaluate_generator` is deprecated and will be removed in a future version. Please use `Model.evaluate`, which supports generators.\n",
      "  loaded_model.evaluate_generator(val_generator)\n"
     ]
    },
    {
     "data": {
      "text/plain": [
       "[1.0795396566390991, 0.5941766500473022]"
      ]
     },
     "execution_count": 17,
     "metadata": {},
     "output_type": "execute_result"
    }
   ],
   "source": [
    "# 로드한 모델 평가.\n",
    "loaded_model.evaluate_generator(val_generator)"
   ]
  }
 ],
 "metadata": {
  "kernelspec": {
   "display_name": "Python 3 (ipykernel)",
   "language": "python",
   "name": "python3"
  },
  "language_info": {
   "codemirror_mode": {
    "name": "ipython",
    "version": 3
   },
   "file_extension": ".py",
   "mimetype": "text/x-python",
   "name": "python",
   "nbconvert_exporter": "python",
   "pygments_lexer": "ipython3",
   "version": "3.9.13"
  }
 },
 "nbformat": 4,
 "nbformat_minor": 5
}
