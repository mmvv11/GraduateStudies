{
 "cells": [
  {
   "cell_type": "code",
   "execution_count": 1,
   "id": "35aeb69d",
   "metadata": {},
   "outputs": [],
   "source": [
    "import cv2\n",
    "import numpy as np\n",
    "from tensorflow import keras"
   ]
  },
  {
   "cell_type": "code",
   "execution_count": 2,
   "id": "c556130a",
   "metadata": {},
   "outputs": [],
   "source": [
    "# 모델 로드\n",
    "model = keras.models.load_model(\"my_model.h5\")"
   ]
  },
  {
   "cell_type": "markdown",
   "id": "7aa1f685",
   "metadata": {},
   "source": [
    "  "
   ]
  },
  {
   "cell_type": "markdown",
   "id": "c6ab9c58",
   "metadata": {},
   "source": [
    "  "
   ]
  },
  {
   "cell_type": "markdown",
   "id": "9f765b18",
   "metadata": {},
   "source": [
    "## 테스트 이미지 로드  "
   ]
  },
  {
   "cell_type": "code",
   "execution_count": 6,
   "id": "ea8cd394",
   "metadata": {},
   "outputs": [
    {
     "data": {
      "text/plain": [
       "(1279, 1920, 3)"
      ]
     },
     "execution_count": 6,
     "metadata": {},
     "output_type": "execute_result"
    }
   ],
   "source": [
    "img = cv2.imread(\"testdata/man-g4474f6873_1920.jpg\")\n",
    "img.shape"
   ]
  },
  {
   "cell_type": "code",
   "execution_count": 7,
   "id": "f90835e6",
   "metadata": {},
   "outputs": [
    {
     "data": {
      "text/plain": [
       "(720, 1280, 3)"
      ]
     },
     "execution_count": 7,
     "metadata": {},
     "output_type": "execute_result"
    }
   ],
   "source": [
    "# 이미지 사이즈 조절\n",
    "img = cv2.resize(img, (1280, 720))\n",
    "img.shape"
   ]
  },
  {
   "cell_type": "code",
   "execution_count": 8,
   "id": "7c9d8948",
   "metadata": {
    "scrolled": true
   },
   "outputs": [
    {
     "data": {
      "text/plain": [
       "(720, 1280)"
      ]
     },
     "execution_count": 8,
     "metadata": {},
     "output_type": "execute_result"
    }
   ],
   "source": [
    "# 흑백 이미지\n",
    "gray_img = cv2.cvtColor(img, cv2.COLOR_BGR2GRAY)\n",
    "gray_img.shape"
   ]
  },
  {
   "cell_type": "markdown",
   "id": "cd8e4371",
   "metadata": {},
   "source": [
    "  "
   ]
  },
  {
   "cell_type": "markdown",
   "id": "26b9283a",
   "metadata": {},
   "source": [
    "  "
   ]
  },
  {
   "cell_type": "markdown",
   "id": "7f508a5b",
   "metadata": {},
   "source": [
    "## 얼굴 감지"
   ]
  },
  {
   "cell_type": "code",
   "execution_count": 9,
   "id": "bc694cae",
   "metadata": {},
   "outputs": [],
   "source": [
    "# 얼굴 감지 객체\n",
    "face_detector = cv2.CascadeClassifier(\"haarcascades/haarcascade_frontalface_default.xml\")"
   ]
  },
  {
   "cell_type": "code",
   "execution_count": 10,
   "id": "8def7fcc",
   "metadata": {},
   "outputs": [
    {
     "name": "stdout",
     "output_type": "stream",
     "text": [
      "num_faces: 1, faces_roc: [[196  67 120 120]]\n"
     ]
    }
   ],
   "source": [
    "# faces에 각 얼굴의 좌표가 할당된다.\n",
    "# x, y, w, h 형태의 좌표\n",
    "faces = face_detector.detectMultiScale(gray_img, scaleFactor=1.3, minNeighbors=5)\n",
    "print(f\"num_faces: {len(faces)}, faces_roc: {faces}\")"
   ]
  },
  {
   "cell_type": "markdown",
   "id": "96c277ae",
   "metadata": {},
   "source": [
    "  "
   ]
  },
  {
   "cell_type": "markdown",
   "id": "38ac0cc5",
   "metadata": {},
   "source": [
    "  "
   ]
  },
  {
   "cell_type": "markdown",
   "id": "6ee833ca",
   "metadata": {},
   "source": [
    "## 감정 추론 및 이미지화"
   ]
  },
  {
   "cell_type": "code",
   "execution_count": 3,
   "id": "3d50ba05",
   "metadata": {},
   "outputs": [],
   "source": [
    "emotion_dict = {0: \"Angry\", 1: \"Disgust\", 2: \"Fear\", 3: \"Happy\", 4: \"Neutral\", 5: \"Sad\", 6: \"Surprise\"}"
   ]
  },
  {
   "cell_type": "code",
   "execution_count": 12,
   "id": "c1a6334b",
   "metadata": {},
   "outputs": [
    {
     "name": "stdout",
     "output_type": "stream",
     "text": [
      "1/1 [==============================] - 0s 26ms/step\n"
     ]
    }
   ],
   "source": [
    "# 각 얼굴에 대한 감정을 추론하고 이미지에 표시\n",
    "for (x, y, w, h) in faces:\n",
    "    # 얼굴 영역 추출\n",
    "    face_in_gray_img = gray_img[y:y+h, x:x+w]\n",
    "    # 차원 수정 (배치 크기, 너비, 높이, 채널) = (1, 48, 48, 1)\n",
    "    cropped_img = np.expand_dims(np.expand_dims(cv2.resize(face_in_gray_img, (48, 48)), -1), 0)\n",
    "    # 감정 추론\n",
    "    predicted_emotion = model.predict(cropped_img)\n",
    "    \n",
    "    # 기존 이미지에 박스표시\n",
    "    cv2.rectangle(img, (x, y-50), (x + w, y + h + 10), (255, 255, 255), 2)\n",
    "    # 각 감정에 대한 모델 값을 text에 저장\n",
    "    text = \"\"\n",
    "    for i, v in enumerate(predicted_emotion[0]):\n",
    "        v = round(v * 100)\n",
    "        text += f\"{emotion_dict[i]:}: {v}%\\n\"\n",
    "    y0, dy = 50, 25\n",
    "    for i, line in enumerate(text.split('\\n')):\n",
    "        ny = y0 + i*dy\n",
    "        cv2.putText(\n",
    "            img=img,\n",
    "            text=line,\n",
    "            org=(x+w+5, ny),\n",
    "            fontFace=cv2.FONT_HERSHEY_COMPLEX,\n",
    "            fontScale=0.7,\n",
    "            color=(255,255,255),\n",
    "            lineType=cv2.LINE_AA\n",
    "        )\n",
    "        \n",
    "cv2.imshow(\"hi\", img)\n",
    "cv2.waitKey(0)\n",
    "cv2.destroyAllWindows()"
   ]
  }
 ],
 "metadata": {
  "kernelspec": {
   "display_name": "Python 3 (ipykernel)",
   "language": "python",
   "name": "python3"
  },
  "language_info": {
   "codemirror_mode": {
    "name": "ipython",
    "version": 3
   },
   "file_extension": ".py",
   "mimetype": "text/x-python",
   "name": "python",
   "nbconvert_exporter": "python",
   "pygments_lexer": "ipython3",
   "version": "3.11.1"
  }
 },
 "nbformat": 4,
 "nbformat_minor": 5
}
